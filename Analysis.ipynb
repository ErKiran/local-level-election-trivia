{
  "nbformat": 4,
  "nbformat_minor": 0,
  "metadata": {
    "colab": {
      "name": "Analysis.ipynb",
      "provenance": [],
      "collapsed_sections": [],
      "toc_visible": true,
      "authorship_tag": "ABX9TyMC0LzXjdA2U9z5V1WfPAC4",
      "include_colab_link": true
    },
    "kernelspec": {
      "name": "python3",
      "display_name": "Python 3"
    },
    "language_info": {
      "name": "python"
    }
  },
  "cells": [
    {
      "cell_type": "markdown",
      "metadata": {
        "id": "view-in-github",
        "colab_type": "text"
      },
      "source": [
        "<a href=\"https://colab.research.google.com/github/ErKiran/local-level-election-trivia/blob/main/Analysis.ipynb\" target=\"_parent\"><img src=\"https://colab.research.google.com/assets/colab-badge.svg\" alt=\"Open In Colab\"/></a>"
      ]
    },
    {
      "cell_type": "code",
      "source": [
        "import pandas as pd"
      ],
      "metadata": {
        "id": "TeAwNWk4F5xg"
      },
      "execution_count": 2,
      "outputs": []
    },
    {
      "cell_type": "code",
      "source": [
        "import numpy as np\n",
        "import matplotlib.pyplot as plt"
      ],
      "metadata": {
        "id": "Jab2Wue4WD5K"
      },
      "execution_count": 1,
      "outputs": []
    },
    {
      "cell_type": "code",
      "source": [
        "from matplotlib.font_manager import FontProperties\n",
        "\n",
        "\n",
        "font_prop = FontProperties(fname='/content/Mangal Regular.ttf', size=18)\n"
      ],
      "metadata": {
        "id": "8tnxsXjhZoBh"
      },
      "execution_count": 59,
      "outputs": []
    },
    {
      "cell_type": "code",
      "source": [
        "import seaborn as sns"
      ],
      "metadata": {
        "id": "7f3P8WwyWRoV"
      },
      "execution_count": 3,
      "outputs": []
    },
    {
      "cell_type": "code",
      "execution_count": 4,
      "metadata": {
        "id": "UoIwen0wE0Pg"
      },
      "outputs": [],
      "source": [
        "url = 'https://raw.githubusercontent.com/ErKiran/election-data-2073/master/local-level-election/raw/local.csv'"
      ]
    },
    {
      "cell_type": "code",
      "source": [
        "def piePlot(count, title):\n",
        "  labels = [X[0] for X in count.keys()]\n",
        "  bar, ax = plt.subplots(figsize=(20,12))\n",
        "  ax, texts = plt.pie(x = count, labels = labels)\n",
        "  plt.setp(texts, fontproperties= font_prop)\n",
        "  plt.pie(x=count, labels = labels, autopct= \"%.1f%%\")\n",
        "  plt.title(title, fontsize = 17, fontproperties= font_prop)\n",
        "  plt.show()"
      ],
      "metadata": {
        "id": "zdFOlViIrkj6"
      },
      "execution_count": 130,
      "outputs": []
    },
    {
      "cell_type": "code",
      "source": [
        "def getWinnerDataFrame(postname):\n",
        "  winners = df[(df[\"EStatus\"] == \"E\") & (df[\"PostName\"] == postname)]\n",
        "  winnerDictFrame = pd.DataFrame({\"Winner\": winners['PoliticalPartyName']})\n",
        "  return winnerDictFrame.value_counts()"
      ],
      "metadata": {
        "id": "nfH4JiHms51B"
      },
      "execution_count": 117,
      "outputs": []
    },
    {
      "cell_type": "code",
      "source": [
        "df = pd.read_csv(url)"
      ],
      "metadata": {
        "id": "5XtZxlfnF-7s"
      },
      "execution_count": 5,
      "outputs": []
    },
    {
      "cell_type": "code",
      "source": [
        "for post in [\"प्रमुख\", \"उपप्रमुख\", \"अध्यक्ष\", \"उपप्रमुख\", \"वडा अध्यक्ष\", \"सदस्य\", \"महिला सदस्य\", \"दलित महिला सदस्य\"]:\n",
        "  data = getWinnerDataFrame(post)\n",
        "  piePlot(data, post)"
      ],
      "metadata": {
        "id": "xCLHvR74xjVb"
      },
      "execution_count": null,
      "outputs": []
    }
  ]
}